{
  "nbformat": 4,
  "nbformat_minor": 0,
  "metadata": {
    "colab": {
      "name": "Tf_Iris",
      "provenance": [],
      "collapsed_sections": []
    },
    "kernelspec": {
      "name": "python3",
      "display_name": "Python 3"
    },
    "language_info": {
      "name": "python"
    },
    "accelerator": "GPU"
  },
  "cells": [
    {
      "cell_type": "code",
      "execution_count": null,
      "metadata": {
        "id": "Q6Ycu37iz939"
      },
      "outputs": [],
      "source": [
        "import os\n",
        "import matplotlib.pyplot as plt\n",
        "import numpy as np"
      ]
    },
    {
      "cell_type": "code",
      "source": [
        "import tensorflow as tf\n",
        "from sklearn.model_selection import train_test_split"
      ],
      "metadata": {
        "id": "s0MgdoDs0YhS"
      },
      "execution_count": null,
      "outputs": []
    },
    {
      "cell_type": "code",
      "source": [
        "print(\"TensorFlow version: {}\".format(tf.__version__))\n",
        "print(\"Eager execution: {}\".format(tf.executing_eagerly()))"
      ],
      "metadata": {
        "colab": {
          "base_uri": "https://localhost:8080/"
        },
        "id": "_UB1jWbD0bGY",
        "outputId": "66c95a8b-d3c8-47cd-c4ce-d7be4e3c01d5"
      },
      "execution_count": null,
      "outputs": [
        {
          "output_type": "stream",
          "name": "stdout",
          "text": [
            "TensorFlow version: 2.7.0\n",
            "Eager execution: True\n"
          ]
        }
      ]
    },
    {
      "cell_type": "code",
      "source": [
        "train_dataset_url = \"https://storage.googleapis.com/download.tensorflow.org/data/iris_training.csv\"\n",
        "\n",
        "train_dataset_fp = tf.keras.utils.get_file(fname=os.path.basename(train_dataset_url),\n",
        "                                           origin=train_dataset_url)\n",
        "\n",
        "print(\"Local copy of the dataset file: {}\".format(train_dataset_fp))\n"
      ],
      "metadata": {
        "colab": {
          "base_uri": "https://localhost:8080/"
        },
        "id": "CRVl15Rl0cs4",
        "outputId": "c986fe98-f9fb-4ea7-c4ca-dc20e8e9eaa2"
      },
      "execution_count": null,
      "outputs": [
        {
          "output_type": "stream",
          "name": "stdout",
          "text": [
            "Local copy of the dataset file: /root/.keras/datasets/iris_training.csv\n"
          ]
        }
      ]
    },
    {
      "cell_type": "code",
      "source": [
        "# column order in CSV file\n",
        "column_names = ['sepal_length', 'sepal_width', 'petal_length', 'petal_width', 'species']\n",
        "\n",
        "feature_names = column_names[:-1]\n",
        "label_name = column_names[-1]\n",
        "\n",
        "print(\"Features: {}\".format(feature_names))\n",
        "print(\"Label: {}\".format(label_name))"
      ],
      "metadata": {
        "colab": {
          "base_uri": "https://localhost:8080/"
        },
        "id": "md2Uh0P_08gZ",
        "outputId": "d61600c5-51ba-43c6-d359-eff279fd8df7"
      },
      "execution_count": null,
      "outputs": [
        {
          "output_type": "stream",
          "name": "stdout",
          "text": [
            "Features: ['sepal_length', 'sepal_width', 'petal_length', 'petal_width']\n",
            "Label: species\n"
          ]
        }
      ]
    },
    {
      "cell_type": "code",
      "source": [
        "class_names = ['Iris setosa', 'Iris versicolor', 'Iris virginica']"
      ],
      "metadata": {
        "id": "BgoyK6Jw1vVL"
      },
      "execution_count": null,
      "outputs": []
    },
    {
      "cell_type": "code",
      "source": [
        "batch_size = 120\n",
        "\n",
        "train_dataset = tf.data.experimental.make_csv_dataset(\n",
        "    train_dataset_fp,\n",
        "    batch_size,\n",
        "    column_names=column_names,\n",
        "    label_name=label_name,\n",
        "    num_epochs=1)"
      ],
      "metadata": {
        "id": "31v44LR11yyT"
      },
      "execution_count": null,
      "outputs": []
    },
    {
      "cell_type": "code",
      "source": [
        "features, labels = next(iter(train_dataset))\n",
        "\n",
        "print(features)"
      ],
      "metadata": {
        "colab": {
          "base_uri": "https://localhost:8080/"
        },
        "id": "qEw-FLIG2JCO",
        "outputId": "68412323-fa6c-4fad-fafa-5f22fc66ae6a"
      },
      "execution_count": null,
      "outputs": [
        {
          "output_type": "stream",
          "name": "stdout",
          "text": [
            "OrderedDict([('sepal_length', <tf.Tensor: shape=(120,), dtype=float32, numpy=\n",
            "array([6.6, 5.6, 5.4, 4.7, 6.3, 5. , 7.4, 6.9, 5.2, 6.7, 5.7, 5.8, 5.1,\n",
            "       6.4, 5.7, 4.6, 4.9, 6.4, 4.9, 5.8, 7.6, 7.2, 5.4, 4.5, 6.5, 5.8,\n",
            "       6.9, 5.4, 6.1, 5.2, 5.1, 5.1, 5.7, 5.8, 6. , 7.2, 5. , 6.1, 5.8,\n",
            "       4.9, 4.6, 5. , 7.7, 4.6, 5.1, 5. , 5.7, 6.8, 6. , 6. , 7.7, 4.4,\n",
            "       6.7, 5.7, 5.5, 4.8, 4.6, 4.8, 6.3, 7.7, 6.1, 6.4, 6.7, 4.7, 7.9,\n",
            "       6.3, 6.4, 6.5, 6.5, 6.3, 5.5, 5.4, 4.8, 6.6, 6.5, 5.3, 5.5, 7.7,\n",
            "       4.9, 6.9, 5. , 5.1, 5.4, 5.8, 5.5, 7.2, 6.2, 6.8, 5. , 6.1, 5. ,\n",
            "       6.4, 4.9, 6. , 6.8, 5.9, 5.6, 6.2, 6.1, 7.3, 5.1, 6.4, 5. , 5.6,\n",
            "       5. , 4.4, 4.9, 4.4, 4.8, 5.7, 5.9, 6.7, 6.5, 5. , 6.3, 6.2, 6.3,\n",
            "       7. , 5.2, 6.7], dtype=float32)>), ('sepal_width', <tf.Tensor: shape=(120,), dtype=float32, numpy=\n",
            "array([3. , 2.9, 3.9, 3.2, 3.4, 3.3, 2.8, 3.1, 2.7, 3. , 4.4, 2.7, 3.8,\n",
            "       3.2, 2.9, 3.2, 3.1, 2.7, 2.4, 2.7, 3. , 3.6, 3.4, 2.3, 3. , 2.6,\n",
            "       3.2, 3.7, 3. , 3.4, 3.5, 2.5, 2.8, 4. , 3. , 3.2, 3.5, 2.8, 2.7,\n",
            "       3. , 3.6, 2. , 2.6, 3.4, 3.7, 3.4, 2.8, 2.8, 2.2, 2.9, 2.8, 3. ,\n",
            "       3. , 3.8, 3.5, 3. , 3.1, 3. , 2.3, 3.8, 2.8, 2.8, 3.3, 3.2, 3.8,\n",
            "       2.7, 3.1, 3.2, 3. , 3.3, 2.4, 3.9, 3.4, 2.9, 3. , 3.7, 2.4, 3. ,\n",
            "       2.5, 3.1, 3.4, 3.8, 3. , 2.8, 2.6, 3. , 3.4, 3.2, 3. , 2.6, 2.3,\n",
            "       3.2, 3.1, 2.7, 3. , 3.2, 2.7, 2.8, 2.9, 2.9, 3.8, 2.8, 3.2, 2.5,\n",
            "       3.6, 3.2, 3.1, 2.9, 3.1, 3. , 3. , 3.1, 2.8, 3.5, 2.5, 2.2, 3.3,\n",
            "       3.2, 3.5, 3.1], dtype=float32)>), ('petal_length', <tf.Tensor: shape=(120,), dtype=float32, numpy=\n",
            "array([4.4, 3.6, 1.3, 1.3, 5.6, 1.4, 6.1, 4.9, 3.9, 5.2, 1.5, 4.1, 1.5,\n",
            "       4.5, 4.2, 1.4, 1.5, 5.3, 3.3, 5.1, 6.6, 6.1, 1.5, 1.3, 5.8, 4. ,\n",
            "       5.7, 1.5, 4.9, 1.4, 1.4, 3. , 4.1, 1.2, 4.8, 6. , 1.6, 4. , 5.1,\n",
            "       1.4, 1. , 3.5, 6.9, 1.4, 1.5, 1.6, 4.5, 4.8, 5. , 4.5, 6.7, 1.3,\n",
            "       5. , 1.7, 1.3, 1.4, 1.5, 1.4, 4.4, 6.7, 4.7, 5.6, 5.7, 1.6, 6.4,\n",
            "       4.9, 5.5, 5.1, 5.2, 6. , 3.8, 1.7, 1.6, 4.6, 5.5, 1.5, 3.7, 6.1,\n",
            "       4.5, 5.1, 1.5, 1.9, 4.5, 5.1, 4.4, 5.8, 5.4, 5.9, 1.6, 5.6, 3.3,\n",
            "       5.3, 1.5, 5.1, 5.5, 4.8, 4.2, 4.8, 4.7, 6.3, 1.6, 5.6, 1.2, 3.9,\n",
            "       1.4, 1.3, 1.5, 1.4, 1.6, 4.2, 5.1, 4.4, 4.6, 1.3, 5. , 4.5, 4.7,\n",
            "       4.7, 1.5, 5.6], dtype=float32)>), ('petal_width', <tf.Tensor: shape=(120,), dtype=float32, numpy=\n",
            "array([1.4, 1.3, 0.4, 0.2, 2.4, 0.2, 1.9, 1.5, 1.4, 2.3, 0.4, 1. , 0.3,\n",
            "       1.5, 1.3, 0.2, 0.1, 1.9, 1. , 1.9, 2.1, 2.5, 0.4, 0.3, 2.2, 1.2,\n",
            "       2.3, 0.2, 1.8, 0.2, 0.3, 1.1, 1.3, 0.2, 1.8, 1.8, 0.6, 1.3, 1.9,\n",
            "       0.2, 0.2, 1. , 2.3, 0.3, 0.4, 0.4, 1.3, 1.4, 1.5, 1.5, 2. , 0.2,\n",
            "       1.7, 0.3, 0.2, 0.1, 0.2, 0.3, 1.3, 2.2, 1.2, 2.1, 2.1, 0.2, 2. ,\n",
            "       1.8, 1.8, 2. , 2. , 2.5, 1.1, 0.4, 0.2, 1.3, 1.8, 0.2, 1. , 2.3,\n",
            "       1.7, 2.3, 0.2, 0.4, 1.5, 2.4, 1.2, 1.6, 2.3, 2.3, 0.2, 1.4, 1. ,\n",
            "       2.3, 0.1, 1.6, 2.1, 1.8, 1.3, 1.8, 1.4, 1.8, 0.2, 2.2, 0.2, 1.1,\n",
            "       0.2, 0.2, 0.1, 0.2, 0.2, 1.2, 1.8, 1.4, 1.5, 0.3, 1.9, 1.5, 1.6,\n",
            "       1.4, 0.2, 2.4], dtype=float32)>)])\n"
          ]
        }
      ]
    },
    {
      "cell_type": "code",
      "source": [
        "plt.scatter(features['petal_length'],\n",
        "            features['sepal_length'],\n",
        "            c=labels,\n",
        "            cmap='viridis')\n",
        "\n",
        "plt.xlabel(\"Petal length\")\n",
        "plt.ylabel(\"Sepal length\")\n",
        "plt.show()"
      ],
      "metadata": {
        "colab": {
          "base_uri": "https://localhost:8080/",
          "height": 279
        },
        "id": "E3_v8cjt2PJ6",
        "outputId": "c72497f3-b8e3-4539-f296-7ef1c7475e7f"
      },
      "execution_count": null,
      "outputs": [
        {
          "output_type": "display_data",
          "data": {
            "image/png": "[encoded data removed]",
            "text/plain": [
              "<Figure size 432x288 with 1 Axes>"
            ]
          },
          "metadata": {
            "needs_background": "light"
          }
        }
      ]
    },
    {
      "cell_type": "code",
      "source": [
        "def pack_features_vector(features, labels):\n",
        "  \"\"\"Pack the features into a single array.\"\"\"\n",
        "  features = tf.stack(list(features.values()), axis=1)\n",
        "  return features, labels"
      ],
      "metadata": {
        "id": "VTX27Soj2dKU"
      },
      "execution_count": null,
      "outputs": []
    },
    {
      "cell_type": "code",
      "source": [
        "X = np.array(list(features.values()))\n",
        "Y = np.array(labels)\n",
        "Y = Y.reshape(1, Y.size)\n",
        "X = X.T\n",
        "Y = Y.T\n",
        "X_train, X_test, Y_train, Y_test = train_test_split(X, Y, test_size = .25)\n",
        "X_train = np.array(X_train)\n",
        "X_test = np.array(X_test)\n",
        "Y_train = np.array(Y_train)\n",
        "Y_test = np.array(Y_test)\n",
        "print(X_train.shape)\n",
        "print(X_test.shape)\n",
        "print(\"Train:\\n\", Y_train, '\\n\\n', \"Test:\\n\", Y_test)"
      ],
      "metadata": {
        "colab": {
          "base_uri": "https://localhost:8080/"
        },
        "id": "eqxKiwvRWeI_",
        "outputId": "c55c71be-3055-4b99-e10a-77b79ed1c7a1"
      },
      "execution_count": null,
      "outputs": [
        {
          "output_type": "stream",
          "name": "stdout",
          "text": [
            "(90, 4)\n",
            "(30, 4)\n",
            "Train:\n",
            " [[1]\n",
            " [0]\n",
            " [1]\n",
            " [2]\n",
            " [2]\n",
            " [0]\n",
            " [0]\n",
            " [2]\n",
            " [1]\n",
            " [0]\n",
            " [0]\n",
            " [0]\n",
            " [1]\n",
            " [0]\n",
            " [0]\n",
            " [2]\n",
            " [1]\n",
            " [2]\n",
            " [1]\n",
            " [1]\n",
            " [0]\n",
            " [2]\n",
            " [0]\n",
            " [0]\n",
            " [1]\n",
            " [1]\n",
            " [1]\n",
            " [1]\n",
            " [0]\n",
            " [0]\n",
            " [2]\n",
            " [0]\n",
            " [0]\n",
            " [1]\n",
            " [0]\n",
            " [1]\n",
            " [0]\n",
            " [2]\n",
            " [2]\n",
            " [1]\n",
            " [1]\n",
            " [0]\n",
            " [0]\n",
            " [0]\n",
            " [2]\n",
            " [0]\n",
            " [0]\n",
            " [2]\n",
            " [0]\n",
            " [0]\n",
            " [1]\n",
            " [2]\n",
            " [2]\n",
            " [1]\n",
            " [0]\n",
            " [1]\n",
            " [2]\n",
            " [2]\n",
            " [1]\n",
            " [1]\n",
            " [2]\n",
            " [2]\n",
            " [1]\n",
            " [2]\n",
            " [1]\n",
            " [1]\n",
            " [0]\n",
            " [0]\n",
            " [1]\n",
            " [1]\n",
            " [2]\n",
            " [0]\n",
            " [1]\n",
            " [0]\n",
            " [2]\n",
            " [2]\n",
            " [0]\n",
            " [2]\n",
            " [2]\n",
            " [2]\n",
            " [1]\n",
            " [0]\n",
            " [0]\n",
            " [2]\n",
            " [1]\n",
            " [2]\n",
            " [2]\n",
            " [0]\n",
            " [2]\n",
            " [1]] \n",
            "\n",
            " Test:\n",
            " [[2]\n",
            " [0]\n",
            " [1]\n",
            " [1]\n",
            " [2]\n",
            " [2]\n",
            " [0]\n",
            " [2]\n",
            " [0]\n",
            " [1]\n",
            " [0]\n",
            " [2]\n",
            " [2]\n",
            " [2]\n",
            " [2]\n",
            " [0]\n",
            " [2]\n",
            " [2]\n",
            " [0]\n",
            " [1]\n",
            " [2]\n",
            " [1]\n",
            " [0]\n",
            " [1]\n",
            " [2]\n",
            " [0]\n",
            " [1]\n",
            " [0]\n",
            " [2]\n",
            " [2]]\n"
          ]
        }
      ]
    },
    {
      "cell_type": "code",
      "source": [
        "#Tensors are features, labels\n",
        "model = tf.keras.Sequential([\n",
        "                             tf.keras.layers.Dense(1000, activation = \"relu\"),\n",
        "                             tf.keras.layers.Dense(500, activation = \"relu\"),\n",
        "                             tf.keras.layers.Dense(300, activation = \"relu\"),\n",
        "                             tf.keras.layers.Dropout(.2),\n",
        "                             tf.keras.layers.Dense(3, activation = \"softmax\", name = \"output_dense\")\n",
        "                             ])\n",
        "model.build(input_shape = (90,4))\n",
        "model.summary()\n",
        "\n",
        "epochs = 5\n",
        "\n",
        "model.compile(optimizer = 'adam', loss = tf.keras.losses.SparseCategoricalCrossentropy(\n",
        "    name=\"sparse_categorical_crossentropy\"),\n",
        "    metrics=[tf.keras.metrics.SparseCategoricalAccuracy()])\n",
        "\n",
        "model.fit(X_train, Y_train, epochs=epochs)"
      ],
      "metadata": {
        "colab": {
          "base_uri": "https://localhost:8080/"
        },
        "id": "j_PTSibI7ZiJ",
        "outputId": "2d8ce934-e570-46fe-867c-ca4219b2123d"
      },
      "execution_count": null,
      "outputs": [
        {
          "output_type": "stream",
          "name": "stdout",
          "text": [
            "Model: \"sequential_7\"\n",
            "_________________________________________________________________\n",
            " Layer (type)                Output Shape              Param #   \n",
            "=================================================================\n",
            " dense_21 (Dense)            (90, 1000)                5000      \n",
            "                                                                 \n",
            " dense_22 (Dense)            (90, 500)                 500500    \n",
            "                                                                 \n",
            " dense_23 (Dense)            (90, 300)                 150300    \n",
            "                                                                 \n",
            " dropout_7 (Dropout)         (90, 300)                 0         \n",
            "                                                                 \n",
            " output_dense (Dense)        (90, 3)                   903       \n",
            "                                                                 \n",
            "=================================================================\n",
            "Total params: 656,703\n",
            "Trainable params: 656,703\n",
            "Non-trainable params: 0\n",
            "_________________________________________________________________\n",
            "Epoch 1/5\n",
            "3/3 [==============================] - 1s 7ms/step - loss: 1.0162 - sparse_categorical_accuracy: 0.5444\n",
            "Epoch 2/5\n",
            "3/3 [==============================] - 0s 6ms/step - loss: 0.7759 - sparse_categorical_accuracy: 0.6889\n",
            "Epoch 3/5\n",
            "3/3 [==============================] - 0s 6ms/step - loss: 0.5564 - sparse_categorical_accuracy: 0.7222\n",
            "Epoch 4/5\n",
            "3/3 [==============================] - 0s 6ms/step - loss: 0.4733 - sparse_categorical_accuracy: 0.7000\n",
            "Epoch 5/5\n",
            "3/3 [==============================] - 0s 6ms/step - loss: 0.3314 - sparse_categorical_accuracy: 0.9444\n"
          ]
        },
        {
          "output_type": "execute_result",
          "data": {
            "text/plain": [
              "<keras.callbacks.History at 0x7f327f6bea50>"
            ]
          },
          "metadata": {},
          "execution_count": 115
        }
      ]
    },
    {
      "cell_type": "code",
      "source": [
        "model.evaluate(X_test, Y_test)"
      ],
      "metadata": {
        "colab": {
          "base_uri": "https://localhost:8080/"
        },
        "id": "tu0HNbtGdbvY",
        "outputId": "1d2d9ac0-81e9-45d1-e6a5-145e01164804"
      },
      "execution_count": null,
      "outputs": [
        {
          "output_type": "stream",
          "name": "stdout",
          "text": [
            "1/1 [==============================] - 0s 144ms/step - loss: 0.4272 - sparse_categorical_accuracy: 0.7667\n"
          ]
        },
        {
          "output_type": "execute_result",
          "data": {
            "text/plain": [
              "[0.42723941802978516, 0.7666666507720947]"
            ]
          },
          "metadata": {},
          "execution_count": 116
        }
      ]
    }
  ]
}